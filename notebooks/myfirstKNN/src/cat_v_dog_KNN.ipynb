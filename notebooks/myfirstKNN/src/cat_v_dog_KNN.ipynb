{
 "cells": [
  {
   "cell_type": "code",
   "execution_count": 1,
   "id": "325343ad-4e78-4a0e-9617-b31faf423ccf",
   "metadata": {},
   "outputs": [],
   "source": [
    "import cv2 as cv\n",
    "import numpy as np\n",
    "from matplotlib import pyplot as plt\n",
    "import os\n",
    "from sklearn.neighbors import KNeighborsClassifier\n",
    "from sklearn.model_selection import GridSearchCV\n",
    "import pandas as pd"
   ]
  },
  {
   "cell_type": "code",
   "execution_count": 2,
   "id": "2d0ec025-c88b-4192-9173-6d3c24ed5715",
   "metadata": {},
   "outputs": [],
   "source": [
    "def load_images_from_folder(folder):\n",
    "    images = []\n",
    "    for file in os.listdir(folder):\n",
    "        img = cv.imread(os.path.join(folder,file))\n",
    "        if(img is not None):\n",
    "            images.append(img)\n",
    "    return images"
   ]
  },
  {
   "cell_type": "code",
   "execution_count": 3,
   "id": "5749e05c-5844-44da-87c7-c982d21d050a",
   "metadata": {},
   "outputs": [],
   "source": [
    "def resize_and_flatten(img, target_size=(64,64)):\n",
    "    resized_img = cv.resize(img, target_size)\n",
    "    flattened_img = resized_img.reshape(target_size[0] * target_size[1] * 3)\n",
    "    return flattened_img"
   ]
  },
  {
   "cell_type": "code",
   "execution_count": 4,
   "id": "beaf558b-f5cd-484b-9c68-f996b9fb534d",
   "metadata": {},
   "outputs": [],
   "source": [
    "cat_data = []\n",
    "for img in load_images_from_folder(\"../data/cat\"):\n",
    "    cat_data.append(resize_and_flatten(img))\n",
    "dog_data = []\n",
    "for img in load_images_from_folder(\"../data/dog\"):\n",
    "    dog_data.append(resize_and_flatten(img))"
   ]
  },
  {
   "cell_type": "code",
   "execution_count": 5,
   "id": "db4fc0ee-c510-4979-9f28-50c607f216a0",
   "metadata": {},
   "outputs": [
    {
     "data": {
      "text/plain": [
       "((160, 12288), (160,))"
      ]
     },
     "execution_count": 5,
     "metadata": {},
     "output_type": "execute_result"
    }
   ],
   "source": [
    "X = []\n",
    "y = []\n",
    "\n",
    "for entity in cat_data:\n",
    "    X.append(entity)\n",
    "    y.append(\"cat\")\n",
    "\n",
    "for entity in dog_data:\n",
    "    X.append(entity)\n",
    "    y.append(\"dog\")\n",
    "\n",
    "\n",
    "np.array(X).shape, np.array(y).shape"
   ]
  },
  {
   "cell_type": "code",
   "execution_count": 6,
   "id": "e41f9f8f-a3a0-46bc-a74d-11f93aa3ad00",
   "metadata": {},
   "outputs": [],
   "source": [
    "kNN_model = KNeighborsClassifier()"
   ]
  },
  {
   "cell_type": "code",
   "execution_count": 7,
   "id": "633562ef-f788-4101-a3b3-20e0616b77af",
   "metadata": {
    "scrolled": true
   },
   "outputs": [
    {
     "data": {
      "text/plain": [
       "{'algorithm': 'auto',\n",
       " 'leaf_size': 30,\n",
       " 'metric': 'minkowski',\n",
       " 'metric_params': None,\n",
       " 'n_jobs': None,\n",
       " 'n_neighbors': 5,\n",
       " 'p': 2,\n",
       " 'weights': 'uniform'}"
      ]
     },
     "execution_count": 7,
     "metadata": {},
     "output_type": "execute_result"
    }
   ],
   "source": [
    "kNN_model.get_params()"
   ]
  },
  {
   "cell_type": "code",
   "execution_count": 8,
   "id": "a8d8edb7-80ca-4566-92d1-85b76e8cdcac",
   "metadata": {},
   "outputs": [
    {
     "data": {
      "text/html": [
       "<div>\n",
       "<style scoped>\n",
       "    .dataframe tbody tr th:only-of-type {\n",
       "        vertical-align: middle;\n",
       "    }\n",
       "\n",
       "    .dataframe tbody tr th {\n",
       "        vertical-align: top;\n",
       "    }\n",
       "\n",
       "    .dataframe thead th {\n",
       "        text-align: right;\n",
       "    }\n",
       "</style>\n",
       "<table border=\"1\" class=\"dataframe\">\n",
       "  <thead>\n",
       "    <tr style=\"text-align: right;\">\n",
       "      <th></th>\n",
       "      <th>mean_fit_time</th>\n",
       "      <th>std_fit_time</th>\n",
       "      <th>mean_score_time</th>\n",
       "      <th>std_score_time</th>\n",
       "      <th>param_n_neighbors</th>\n",
       "      <th>params</th>\n",
       "      <th>split0_test_score</th>\n",
       "      <th>split1_test_score</th>\n",
       "      <th>split2_test_score</th>\n",
       "      <th>mean_test_score</th>\n",
       "      <th>std_test_score</th>\n",
       "      <th>rank_test_score</th>\n",
       "    </tr>\n",
       "  </thead>\n",
       "  <tbody>\n",
       "    <tr>\n",
       "      <th>0</th>\n",
       "      <td>0.000583</td>\n",
       "      <td>4.973566e-05</td>\n",
       "      <td>0.012482</td>\n",
       "      <td>0.001019</td>\n",
       "      <td>1</td>\n",
       "      <td>{'n_neighbors': 1}</td>\n",
       "      <td>0.481481</td>\n",
       "      <td>0.509434</td>\n",
       "      <td>0.509434</td>\n",
       "      <td>0.500116</td>\n",
       "      <td>0.013177</td>\n",
       "      <td>6</td>\n",
       "    </tr>\n",
       "    <tr>\n",
       "      <th>1</th>\n",
       "      <td>0.000488</td>\n",
       "      <td>1.110208e-04</td>\n",
       "      <td>0.010218</td>\n",
       "      <td>0.000806</td>\n",
       "      <td>3</td>\n",
       "      <td>{'n_neighbors': 3}</td>\n",
       "      <td>0.500000</td>\n",
       "      <td>0.490566</td>\n",
       "      <td>0.584906</td>\n",
       "      <td>0.525157</td>\n",
       "      <td>0.042424</td>\n",
       "      <td>3</td>\n",
       "    </tr>\n",
       "    <tr>\n",
       "      <th>2</th>\n",
       "      <td>0.000414</td>\n",
       "      <td>8.246051e-06</td>\n",
       "      <td>0.011349</td>\n",
       "      <td>0.002124</td>\n",
       "      <td>5</td>\n",
       "      <td>{'n_neighbors': 5}</td>\n",
       "      <td>0.611111</td>\n",
       "      <td>0.528302</td>\n",
       "      <td>0.716981</td>\n",
       "      <td>0.618798</td>\n",
       "      <td>0.077220</td>\n",
       "      <td>1</td>\n",
       "    </tr>\n",
       "    <tr>\n",
       "      <th>3</th>\n",
       "      <td>0.000407</td>\n",
       "      <td>2.827715e-06</td>\n",
       "      <td>0.011246</td>\n",
       "      <td>0.002326</td>\n",
       "      <td>7</td>\n",
       "      <td>{'n_neighbors': 7}</td>\n",
       "      <td>0.518519</td>\n",
       "      <td>0.528302</td>\n",
       "      <td>0.660377</td>\n",
       "      <td>0.569066</td>\n",
       "      <td>0.064690</td>\n",
       "      <td>2</td>\n",
       "    </tr>\n",
       "    <tr>\n",
       "      <th>4</th>\n",
       "      <td>0.000400</td>\n",
       "      <td>9.733398e-07</td>\n",
       "      <td>0.013817</td>\n",
       "      <td>0.000051</td>\n",
       "      <td>8</td>\n",
       "      <td>{'n_neighbors': 8}</td>\n",
       "      <td>0.500000</td>\n",
       "      <td>0.509434</td>\n",
       "      <td>0.547170</td>\n",
       "      <td>0.518868</td>\n",
       "      <td>0.020380</td>\n",
       "      <td>4</td>\n",
       "    </tr>\n",
       "    <tr>\n",
       "      <th>5</th>\n",
       "      <td>0.000407</td>\n",
       "      <td>8.278158e-06</td>\n",
       "      <td>0.010042</td>\n",
       "      <td>0.000681</td>\n",
       "      <td>11</td>\n",
       "      <td>{'n_neighbors': 11}</td>\n",
       "      <td>0.462963</td>\n",
       "      <td>0.509434</td>\n",
       "      <td>0.566038</td>\n",
       "      <td>0.512812</td>\n",
       "      <td>0.042148</td>\n",
       "      <td>5</td>\n",
       "    </tr>\n",
       "  </tbody>\n",
       "</table>\n",
       "</div>"
      ],
      "text/plain": [
       "   mean_fit_time  std_fit_time  mean_score_time  std_score_time  \\\n",
       "0       0.000583  4.973566e-05         0.012482        0.001019   \n",
       "1       0.000488  1.110208e-04         0.010218        0.000806   \n",
       "2       0.000414  8.246051e-06         0.011349        0.002124   \n",
       "3       0.000407  2.827715e-06         0.011246        0.002326   \n",
       "4       0.000400  9.733398e-07         0.013817        0.000051   \n",
       "5       0.000407  8.278158e-06         0.010042        0.000681   \n",
       "\n",
       "  param_n_neighbors               params  split0_test_score  \\\n",
       "0                 1   {'n_neighbors': 1}           0.481481   \n",
       "1                 3   {'n_neighbors': 3}           0.500000   \n",
       "2                 5   {'n_neighbors': 5}           0.611111   \n",
       "3                 7   {'n_neighbors': 7}           0.518519   \n",
       "4                 8   {'n_neighbors': 8}           0.500000   \n",
       "5                11  {'n_neighbors': 11}           0.462963   \n",
       "\n",
       "   split1_test_score  split2_test_score  mean_test_score  std_test_score  \\\n",
       "0           0.509434           0.509434         0.500116        0.013177   \n",
       "1           0.490566           0.584906         0.525157        0.042424   \n",
       "2           0.528302           0.716981         0.618798        0.077220   \n",
       "3           0.528302           0.660377         0.569066        0.064690   \n",
       "4           0.509434           0.547170         0.518868        0.020380   \n",
       "5           0.509434           0.566038         0.512812        0.042148   \n",
       "\n",
       "   rank_test_score  \n",
       "0                6  \n",
       "1                3  \n",
       "2                1  \n",
       "3                2  \n",
       "4                4  \n",
       "5                5  "
      ]
     },
     "execution_count": 8,
     "metadata": {},
     "output_type": "execute_result"
    }
   ],
   "source": [
    "model = GridSearchCV(estimator=kNN_model, param_grid={'n_neighbors':[1,3,5,7,8,11]},cv=3)\n",
    "model.fit(X,y)\n",
    "pd.DataFrame(model.cv_results_)"
   ]
  }
 ],
 "metadata": {
  "kernelspec": {
   "display_name": "Python 3 (ipykernel)",
   "language": "python",
   "name": "python3"
  },
  "language_info": {
   "codemirror_mode": {
    "name": "ipython",
    "version": 3
   },
   "file_extension": ".py",
   "mimetype": "text/x-python",
   "name": "python",
   "nbconvert_exporter": "python",
   "pygments_lexer": "ipython3",
   "version": "3.10.13"
  }
 },
 "nbformat": 4,
 "nbformat_minor": 5
}
