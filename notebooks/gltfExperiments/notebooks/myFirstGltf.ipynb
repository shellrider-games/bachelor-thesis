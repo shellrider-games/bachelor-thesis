{
 "cells": [
  {
   "cell_type": "code",
   "execution_count": 1,
   "id": "142b0d43-f3f4-4b24-bce5-2247efbacb32",
   "metadata": {},
   "outputs": [],
   "source": [
    "import numpy as np\n",
    "import pygltflib\n",
    "import base64"
   ]
  },
  {
   "cell_type": "code",
   "execution_count": 2,
   "id": "f1a20673-194f-4200-a43d-06fa6d3933b7",
   "metadata": {},
   "outputs": [],
   "source": [
    "points = np.array([\n",
    "    [-0.5,-0.5,0],\n",
    "    [0.5,-0.5,0],\n",
    "    [-0.5,0.5,0],\n",
    "    [0.5,0.5,0]\n",
    "], dtype=\"float32\")"
   ]
  },
  {
   "cell_type": "code",
   "execution_count": 3,
   "id": "0fc547e5-2837-4620-a533-f395393bbd14",
   "metadata": {},
   "outputs": [],
   "source": [
    "triangles = np.array([\n",
    "    [0,1,2],\n",
    "    [2,1,3],\n",
    "],dtype=\"uint32\",)\n",
    "                    "
   ]
  },
  {
   "cell_type": "code",
   "execution_count": 4,
   "id": "f175fec0-2e9c-4a54-844a-d3c581f133bc",
   "metadata": {},
   "outputs": [],
   "source": [
    "triangles_binary_blob = triangles.flatten().tobytes()\n",
    "points_binary_blob = points.tobytes()"
   ]
  },
  {
   "cell_type": "code",
   "execution_count": 5,
   "id": "ee4e830c-eca6-4e4d-9a27-82d36861e40b",
   "metadata": {},
   "outputs": [
    {
     "data": {
      "text/plain": [
       "True"
      ]
     },
     "execution_count": 5,
     "metadata": {},
     "output_type": "execute_result"
    }
   ],
   "source": [
    "gltf = pygltflib.GLTF2(\n",
    "    scene=0,\n",
    "    scenes=[pygltflib.Scene(nodes=[0])],\n",
    "    nodes=[pygltflib.Node(\n",
    "        mesh=0,\n",
    "        name=\"subject\"\n",
    "    )],\n",
    "    meshes=[\n",
    "        pygltflib.Mesh(\n",
    "            primitives=[\n",
    "                pygltflib.Primitive(\n",
    "                    attributes=pygltflib.Attributes(POSITION=1), indices=0\n",
    "                )\n",
    "            ]\n",
    "        )\n",
    "    ],\n",
    "    accessors=[\n",
    "        pygltflib.Accessor(\n",
    "            bufferView=0,\n",
    "            componentType=pygltflib.UNSIGNED_BYTE,\n",
    "            count=triangles.size,\n",
    "            type=pygltflib.SCALAR,\n",
    "            max=[int(triangles.max())],\n",
    "            min=[int(triangles.min())],\n",
    "        ),\n",
    "        pygltflib.Accessor(\n",
    "            bufferView=1,\n",
    "            componentType=pygltflib.FLOAT,\n",
    "            count=len(points),\n",
    "            type=pygltflib.VEC3,\n",
    "            max=points.max(axis=0).tolist(),\n",
    "            min=points.min(axis=0).tolist(),\n",
    "        ),\n",
    "    ],\n",
    "    bufferViews=[\n",
    "        pygltflib.BufferView(\n",
    "            buffer=0,\n",
    "            byteLength=len(triangles_binary_blob),\n",
    "            target=pygltflib.ELEMENT_ARRAY_BUFFER,\n",
    "        ),\n",
    "        pygltflib.BufferView(\n",
    "            buffer=0,\n",
    "            byteOffset=len(triangles_binary_blob),\n",
    "            byteLength=len(points_binary_blob),\n",
    "            target=pygltflib.ARRAY_BUFFER,\n",
    "        ),\n",
    "    ],\n",
    "    buffers=[\n",
    "        pygltflib.Buffer(\n",
    "            byteLength=len(triangles_binary_blob) + len(points_binary_blob)\n",
    "        )\n",
    "    ],\n",
    ")\n",
    "binary_blob = triangles_binary_blob + points_binary_blob\n",
    "base64_blob = base64.b64encode(binary_blob).decode('utf-8')\n",
    "gltf.buffers[0].uri = f\"data:application/octet_stream;base64,{base64_blob}\"\n",
    "\n",
    "gltf.save(\"quad.gltf\")"
   ]
  }
 ],
 "metadata": {
  "kernelspec": {
   "display_name": "Python 3 (ipykernel)",
   "language": "python",
   "name": "python3"
  },
  "language_info": {
   "codemirror_mode": {
    "name": "ipython",
    "version": 3
   },
   "file_extension": ".py",
   "mimetype": "text/x-python",
   "name": "python",
   "nbconvert_exporter": "python",
   "pygments_lexer": "ipython3",
   "version": "3.11.4"
  }
 },
 "nbformat": 4,
 "nbformat_minor": 5
}
