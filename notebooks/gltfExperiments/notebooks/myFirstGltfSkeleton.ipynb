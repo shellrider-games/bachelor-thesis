{
 "cells": [
  {
   "cell_type": "markdown",
   "id": "7b415ab8-406f-430d-ba18-39afc01f279c",
   "metadata": {},
   "source": [
    "# Creating a skeleton with pygltflib"
   ]
  },
  {
   "cell_type": "code",
   "execution_count": 1,
   "id": "505ddc19-39a8-448f-b5bb-56afd9f62d4c",
   "metadata": {},
   "outputs": [],
   "source": [
    "import pygltflib"
   ]
  },
  {
   "cell_type": "markdown",
   "id": "00187e7c-eed3-4151-a2cb-a12764503e93",
   "metadata": {},
   "source": [
    "## Create the gltf object"
   ]
  },
  {
   "cell_type": "code",
   "execution_count": 2,
   "id": "f50512c3-67b2-4d7a-9a16-431a28caa630",
   "metadata": {},
   "outputs": [],
   "source": [
    "gltf = pygltflib.GLTF2()"
   ]
  },
  {
   "cell_type": "markdown",
   "id": "53876c51-33b1-4a77-a18e-73b5724f8565",
   "metadata": {},
   "source": [
    "## Create bones"
   ]
  },
  {
   "cell_type": "code",
   "execution_count": 3,
   "id": "c9349033-bae2-45ac-917c-4801b8de33a9",
   "metadata": {},
   "outputs": [],
   "source": [
    "root_bone = pygltflib.Node(\n",
    "    name = \"Root\",\n",
    "    translation= [0.0, 0.0, 0.0],\n",
    "    children = [1]\n",
    ")\n",
    "\n",
    "upper_arm_bone = pygltflib.Node(\n",
    "    name = \"UpperArm\",\n",
    "    translation = [1.0, 0.0, 0.0],\n",
    "    children = [2]\n",
    ")\n",
    "\n",
    "forearm_bone = pygltflib.Node(\n",
    "    name = \"ForeArm\",\n",
    "    translation = [0.0, 1.0, 0.0],\n",
    ")"
   ]
  },
  {
   "cell_type": "markdown",
   "id": "437e1592-4e80-49df-897e-591b8b4dc300",
   "metadata": {},
   "source": [
    "## Attach bones to gltf"
   ]
  },
  {
   "cell_type": "code",
   "execution_count": 4,
   "id": "f20d7719-62ab-44f1-98f8-49296d1992f5",
   "metadata": {},
   "outputs": [],
   "source": [
    "gltf.nodes.append(root_bone)\n",
    "gltf.nodes.append(upper_arm_bone)\n",
    "gltf.nodes.append(forearm_bone)"
   ]
  },
  {
   "cell_type": "markdown",
   "id": "509e4d44-3622-4847-b934-1a7d819416eb",
   "metadata": {},
   "source": [
    "## Create scene"
   ]
  },
  {
   "cell_type": "code",
   "execution_count": 5,
   "id": "cab7ae53-c68e-44d4-ae5e-5ed8519a7f4b",
   "metadata": {},
   "outputs": [],
   "source": [
    "scene = pygltflib.Scene(nodes=[0])\n",
    "gltf.scenes.append(scene)\n",
    "gltf.scene = 0"
   ]
  },
  {
   "cell_type": "markdown",
   "id": "111ceda6-5f2e-4808-9c9c-0ec9d7e079f9",
   "metadata": {},
   "source": [
    "## Save GLTF file"
   ]
  },
  {
   "cell_type": "code",
   "execution_count": 6,
   "id": "f9dd13fe-96dd-4ef4-90e4-af9359637246",
   "metadata": {},
   "outputs": [
    {
     "data": {
      "text/plain": [
       "True"
      ]
     },
     "execution_count": 6,
     "metadata": {},
     "output_type": "execute_result"
    }
   ],
   "source": [
    "gltf.save(\"my_first_armature.gltf\")"
   ]
  },
  {
   "cell_type": "code",
   "execution_count": null,
   "id": "276500dd-6b73-45a4-9b23-dc31223968db",
   "metadata": {},
   "outputs": [],
   "source": []
  }
 ],
 "metadata": {
  "kernelspec": {
   "display_name": "Python 3 (ipykernel)",
   "language": "python",
   "name": "python3"
  },
  "language_info": {
   "codemirror_mode": {
    "name": "ipython",
    "version": 3
   },
   "file_extension": ".py",
   "mimetype": "text/x-python",
   "name": "python",
   "nbconvert_exporter": "python",
   "pygments_lexer": "ipython3",
   "version": "3.11.4"
  }
 },
 "nbformat": 4,
 "nbformat_minor": 5
}
