{
 "cells": [
  {
   "cell_type": "code",
   "execution_count": 1,
   "id": "c02509da-48f0-4f2b-876d-6ac9107f2132",
   "metadata": {},
   "outputs": [],
   "source": [
    "import os\n",
    "import cv2 as cv\n",
    "import numpy as np\n",
    "from PIL import Image\n",
    "import torch\n",
    "from torch import nn\n",
    "from skorch import NeuralNetClassifier\n",
    "from sklearn.model_selection import GridSearchCV\n",
    "from sklearn.pipeline import Pipeline\n",
    "from sklearn.preprocessing import StandardScaler\n",
    "import pandas as pd\n",
    "import matplotlib.pyplot as plt"
   ]
  },
  {
   "cell_type": "code",
   "execution_count": 2,
   "id": "862a8f25-29e4-4da9-a3d0-2526e3940562",
   "metadata": {},
   "outputs": [],
   "source": [
    "device = torch.device(\n",
    "    \"cuda\"\n",
    "    if torch.cuda.is_available()\n",
    "    else \"mps\"\n",
    "    if torch.backends.mps.is_available()\n",
    "    else \"cpu\"\n",
    ")"
   ]
  },
  {
   "cell_type": "code",
   "execution_count": 3,
   "id": "f43b78e4-d9dd-4349-8cbb-b92de576147c",
   "metadata": {},
   "outputs": [],
   "source": [
    "def load_images_from_folder(folder):\n",
    "    images = []\n",
    "    for file in os.listdir(folder):\n",
    "        img = cv.imread(os.path.join(folder,file))\n",
    "        if(img is not None):\n",
    "            images.append(img)\n",
    "    return images"
   ]
  },
  {
   "cell_type": "code",
   "execution_count": 4,
   "id": "ec599119-a0f0-40b9-8829-7552c876743f",
   "metadata": {},
   "outputs": [],
   "source": [
    "def resize_and_flatten(img, target_size=(64,64)):\n",
    "    resized_img = cv.resize(img, target_size)\n",
    "    flattened_img = resized_img.reshape(target_size[0] * target_size[1] * 3)\n",
    "    return flattened_img"
   ]
  },
  {
   "cell_type": "code",
   "execution_count": 5,
   "id": "87dc05ed-a06b-4548-9fba-088b4f374b2b",
   "metadata": {},
   "outputs": [],
   "source": [
    "cat_data = []\n",
    "for img in load_images_from_folder(\"../data/cat\"):\n",
    "    cat_data.append(resize_and_flatten(img))\n",
    "dog_data = []\n",
    "for img in load_images_from_folder(\"../data/dog\"):\n",
    "    dog_data.append(resize_and_flatten(img))"
   ]
  },
  {
   "cell_type": "code",
   "execution_count": 6,
   "id": "aa8af40c-9dfe-4dd8-b1e3-f4bf24b0a4d3",
   "metadata": {},
   "outputs": [
    {
     "name": "stdout",
     "output_type": "stream",
     "text": [
      "80 cat images\n",
      "80 dog images\n"
     ]
    }
   ],
   "source": [
    "print(str(len(cat_data)) + \" cat images\")\n",
    "print(str(len(dog_data)) + \" dog images\")"
   ]
  },
  {
   "cell_type": "code",
   "execution_count": 7,
   "id": "30be7ae5-67c3-4ffb-87f7-036a3f254510",
   "metadata": {},
   "outputs": [],
   "source": [
    "X = []\n",
    "y = []\n",
    "\n",
    "for entity in cat_data:\n",
    "    X.append(entity)\n",
    "    y.append(1.0)\n",
    "\n",
    "for entity in dog_data:\n",
    "    X.append(entity)\n",
    "    y.append(0.0)\n"
   ]
  },
  {
   "cell_type": "code",
   "execution_count": 8,
   "id": "ac8262b3-2b25-4922-beae-1a2849e232ab",
   "metadata": {},
   "outputs": [],
   "source": [
    "class MyNN(nn.Module):\n",
    "    def __init__(self):\n",
    "        super().__init__()\n",
    "        self.flatten = nn.Flatten()\n",
    "        self.linear_relu_stack = nn.Sequential(\n",
    "            nn.Linear(64*64*3, 16*16),\n",
    "            nn.ReLU(),\n",
    "            nn.Linear(16*16, 16*16),\n",
    "            nn.ReLU(),\n",
    "            nn.Linear(16*16,1)\n",
    "        )\n",
    "    def forward(self, x, **kwargs):\n",
    "        x = self.flatten(x)\n",
    "        logits = self.linear_relu_stack(x)\n",
    "        return logits"
   ]
  },
  {
   "cell_type": "code",
   "execution_count": 9,
   "id": "368e73bc-e34a-4464-acc2-428014bb74bf",
   "metadata": {},
   "outputs": [],
   "source": [
    "model = MyNN()"
   ]
  },
  {
   "cell_type": "code",
   "execution_count": 10,
   "id": "5c8ee7f3-4a61-412c-abf9-fd7f1d3f38f3",
   "metadata": {},
   "outputs": [],
   "source": [
    "net = NeuralNetClassifier(\n",
    "    module = model,\n",
    "    max_epochs=10,\n",
    "    lr=0.001,\n",
    "    iterator_train__shuffle=True,\n",
    ")"
   ]
  },
  {
   "cell_type": "code",
   "execution_count": 11,
   "id": "1e29ebc8-269f-4f5a-9f54-2ea3e3d93874",
   "metadata": {},
   "outputs": [
    {
     "name": "stderr",
     "output_type": "stream",
     "text": [
      "/var/folders/x_/gy3_q9jx56qc789tf8h0bhv00000gn/T/ipykernel_1575/2296238450.py:7: UserWarning: Creating a tensor from a list of numpy.ndarrays is extremely slow. Please consider converting the list to a single numpy.ndarray with numpy.array() before converting to a tensor. (Triggered internally at /Users/runner/work/pytorch/pytorch/pytorch/torch/csrc/utils/tensor_new.cpp:248.)\n",
      "  gs.fit(torch.FloatTensor(X), torch.FloatTensor(y))\n"
     ]
    },
    {
     "ename": "ValueError",
     "evalue": "\nAll the 36 fits failed.\nIt is very likely that your model is misconfigured.\nYou can try to debug the error by setting error_score='raise'.\n\nBelow are more details about the failures:\n--------------------------------------------------------------------------------\n36 fits failed with the following error:\nTraceback (most recent call last):\n  File \"/Users/gbecker/git/bachelor-thesis/notebooks/myfirstNN/venv/lib/python3.9/site-packages/sklearn/model_selection/_validation.py\", line 729, in _fit_and_score\n    estimator.fit(X_train, y_train, **fit_params)\n  File \"/Users/gbecker/git/bachelor-thesis/notebooks/myfirstNN/venv/lib/python3.9/site-packages/skorch/classifier.py\", line 165, in fit\n    return super(NeuralNetClassifier, self).fit(X, y, **fit_params)\n  File \"/Users/gbecker/git/bachelor-thesis/notebooks/myfirstNN/venv/lib/python3.9/site-packages/skorch/net.py\", line 1319, in fit\n    self.partial_fit(X, y, **fit_params)\n  File \"/Users/gbecker/git/bachelor-thesis/notebooks/myfirstNN/venv/lib/python3.9/site-packages/skorch/net.py\", line 1278, in partial_fit\n    self.fit_loop(X, y, **fit_params)\n  File \"/Users/gbecker/git/bachelor-thesis/notebooks/myfirstNN/venv/lib/python3.9/site-packages/skorch/net.py\", line 1190, in fit_loop\n    self.run_single_epoch(iterator_train, training=True, prefix=\"train\",\n  File \"/Users/gbecker/git/bachelor-thesis/notebooks/myfirstNN/venv/lib/python3.9/site-packages/skorch/net.py\", line 1226, in run_single_epoch\n    step = step_fn(batch, **fit_params)\n  File \"/Users/gbecker/git/bachelor-thesis/notebooks/myfirstNN/venv/lib/python3.9/site-packages/skorch/net.py\", line 1105, in train_step\n    self._step_optimizer(step_fn)\n  File \"/Users/gbecker/git/bachelor-thesis/notebooks/myfirstNN/venv/lib/python3.9/site-packages/skorch/net.py\", line 1060, in _step_optimizer\n    optimizer.step(step_fn)\n  File \"/Users/gbecker/git/bachelor-thesis/notebooks/myfirstNN/venv/lib/python3.9/site-packages/torch/optim/optimizer.py\", line 280, in wrapper\n    out = func(*args, **kwargs)\n  File \"/Users/gbecker/git/bachelor-thesis/notebooks/myfirstNN/venv/lib/python3.9/site-packages/torch/optim/optimizer.py\", line 33, in _use_grad\n    ret = func(self, *args, **kwargs)\n  File \"/Users/gbecker/git/bachelor-thesis/notebooks/myfirstNN/venv/lib/python3.9/site-packages/torch/optim/sgd.py\", line 67, in step\n    loss = closure()\n  File \"/Users/gbecker/git/bachelor-thesis/notebooks/myfirstNN/venv/lib/python3.9/site-packages/skorch/net.py\", line 1094, in step_fn\n    step = self.train_step_single(batch, **fit_params)\n  File \"/Users/gbecker/git/bachelor-thesis/notebooks/myfirstNN/venv/lib/python3.9/site-packages/skorch/net.py\", line 994, in train_step_single\n    loss = self.get_loss(y_pred, yi, X=Xi, training=True)\n  File \"/Users/gbecker/git/bachelor-thesis/notebooks/myfirstNN/venv/lib/python3.9/site-packages/skorch/classifier.py\", line 150, in get_loss\n    return super().get_loss(y_pred, y_true, *args, **kwargs)\n  File \"/Users/gbecker/git/bachelor-thesis/notebooks/myfirstNN/venv/lib/python3.9/site-packages/skorch/net.py\", line 1665, in get_loss\n    return self.criterion_(y_pred, y_true)\n  File \"/Users/gbecker/git/bachelor-thesis/notebooks/myfirstNN/venv/lib/python3.9/site-packages/torch/nn/modules/module.py\", line 1501, in _call_impl\n    return forward_call(*args, **kwargs)\n  File \"/Users/gbecker/git/bachelor-thesis/notebooks/myfirstNN/venv/lib/python3.9/site-packages/torch/nn/modules/loss.py\", line 216, in forward\n    return F.nll_loss(input, target, weight=self.weight, ignore_index=self.ignore_index, reduction=self.reduction)\n  File \"/Users/gbecker/git/bachelor-thesis/notebooks/myfirstNN/venv/lib/python3.9/site-packages/torch/nn/functional.py\", line 2704, in nll_loss\n    return torch._C._nn.nll_loss_nd(input, target, weight, _Reduction.get_enum(reduction), ignore_index)\nRuntimeError: expected scalar type Long but found Float\n",
     "output_type": "error",
     "traceback": [
      "\u001b[0;31m---------------------------------------------------------------------------\u001b[0m",
      "\u001b[0;31mValueError\u001b[0m                                Traceback (most recent call last)",
      "Cell \u001b[0;32mIn[11], line 7\u001b[0m\n\u001b[1;32m      1\u001b[0m params \u001b[38;5;241m=\u001b[39m {    \n\u001b[1;32m      2\u001b[0m     \u001b[38;5;124m'\u001b[39m\u001b[38;5;124mlr\u001b[39m\u001b[38;5;124m'\u001b[39m: [\u001b[38;5;241m0.001\u001b[39m, \u001b[38;5;241m0.01\u001b[39m, \u001b[38;5;241m0.0001\u001b[39m],\n\u001b[1;32m      3\u001b[0m     \u001b[38;5;124m'\u001b[39m\u001b[38;5;124mmax_epochs\u001b[39m\u001b[38;5;124m'\u001b[39m: [\u001b[38;5;241m1\u001b[39m,\u001b[38;5;241m2\u001b[39m,\u001b[38;5;241m5\u001b[39m, \u001b[38;5;241m10\u001b[39m, \u001b[38;5;241m20\u001b[39m, \u001b[38;5;241m25\u001b[39m],\n\u001b[1;32m      4\u001b[0m }\n\u001b[1;32m      6\u001b[0m gs \u001b[38;5;241m=\u001b[39m GridSearchCV(net, params, cv\u001b[38;5;241m=\u001b[39m\u001b[38;5;241m2\u001b[39m)\n\u001b[0;32m----> 7\u001b[0m \u001b[43mgs\u001b[49m\u001b[38;5;241;43m.\u001b[39;49m\u001b[43mfit\u001b[49m\u001b[43m(\u001b[49m\u001b[43mtorch\u001b[49m\u001b[38;5;241;43m.\u001b[39;49m\u001b[43mFloatTensor\u001b[49m\u001b[43m(\u001b[49m\u001b[43mX\u001b[49m\u001b[43m)\u001b[49m\u001b[43m,\u001b[49m\u001b[43m \u001b[49m\u001b[43mtorch\u001b[49m\u001b[38;5;241;43m.\u001b[39;49m\u001b[43mFloatTensor\u001b[49m\u001b[43m(\u001b[49m\u001b[43my\u001b[49m\u001b[43m)\u001b[49m\u001b[43m)\u001b[49m\n\u001b[1;32m      8\u001b[0m pd\u001b[38;5;241m.\u001b[39mDataFrame(gs\u001b[38;5;241m.\u001b[39mcv_results_)\n",
      "File \u001b[0;32m~/git/bachelor-thesis/notebooks/myfirstNN/venv/lib/python3.9/site-packages/sklearn/base.py:1152\u001b[0m, in \u001b[0;36m_fit_context.<locals>.decorator.<locals>.wrapper\u001b[0;34m(estimator, *args, **kwargs)\u001b[0m\n\u001b[1;32m   1145\u001b[0m     estimator\u001b[38;5;241m.\u001b[39m_validate_params()\n\u001b[1;32m   1147\u001b[0m \u001b[38;5;28;01mwith\u001b[39;00m config_context(\n\u001b[1;32m   1148\u001b[0m     skip_parameter_validation\u001b[38;5;241m=\u001b[39m(\n\u001b[1;32m   1149\u001b[0m         prefer_skip_nested_validation \u001b[38;5;129;01mor\u001b[39;00m global_skip_validation\n\u001b[1;32m   1150\u001b[0m     )\n\u001b[1;32m   1151\u001b[0m ):\n\u001b[0;32m-> 1152\u001b[0m     \u001b[38;5;28;01mreturn\u001b[39;00m \u001b[43mfit_method\u001b[49m\u001b[43m(\u001b[49m\u001b[43mestimator\u001b[49m\u001b[43m,\u001b[49m\u001b[43m \u001b[49m\u001b[38;5;241;43m*\u001b[39;49m\u001b[43margs\u001b[49m\u001b[43m,\u001b[49m\u001b[43m \u001b[49m\u001b[38;5;241;43m*\u001b[39;49m\u001b[38;5;241;43m*\u001b[39;49m\u001b[43mkwargs\u001b[49m\u001b[43m)\u001b[49m\n",
      "File \u001b[0;32m~/git/bachelor-thesis/notebooks/myfirstNN/venv/lib/python3.9/site-packages/sklearn/model_selection/_search.py:898\u001b[0m, in \u001b[0;36mBaseSearchCV.fit\u001b[0;34m(self, X, y, groups, **fit_params)\u001b[0m\n\u001b[1;32m    892\u001b[0m     results \u001b[38;5;241m=\u001b[39m \u001b[38;5;28mself\u001b[39m\u001b[38;5;241m.\u001b[39m_format_results(\n\u001b[1;32m    893\u001b[0m         all_candidate_params, n_splits, all_out, all_more_results\n\u001b[1;32m    894\u001b[0m     )\n\u001b[1;32m    896\u001b[0m     \u001b[38;5;28;01mreturn\u001b[39;00m results\n\u001b[0;32m--> 898\u001b[0m \u001b[38;5;28;43mself\u001b[39;49m\u001b[38;5;241;43m.\u001b[39;49m\u001b[43m_run_search\u001b[49m\u001b[43m(\u001b[49m\u001b[43mevaluate_candidates\u001b[49m\u001b[43m)\u001b[49m\n\u001b[1;32m    900\u001b[0m \u001b[38;5;66;03m# multimetric is determined here because in the case of a callable\u001b[39;00m\n\u001b[1;32m    901\u001b[0m \u001b[38;5;66;03m# self.scoring the return type is only known after calling\u001b[39;00m\n\u001b[1;32m    902\u001b[0m first_test_score \u001b[38;5;241m=\u001b[39m all_out[\u001b[38;5;241m0\u001b[39m][\u001b[38;5;124m\"\u001b[39m\u001b[38;5;124mtest_scores\u001b[39m\u001b[38;5;124m\"\u001b[39m]\n",
      "File \u001b[0;32m~/git/bachelor-thesis/notebooks/myfirstNN/venv/lib/python3.9/site-packages/sklearn/model_selection/_search.py:1422\u001b[0m, in \u001b[0;36mGridSearchCV._run_search\u001b[0;34m(self, evaluate_candidates)\u001b[0m\n\u001b[1;32m   1420\u001b[0m \u001b[38;5;28;01mdef\u001b[39;00m \u001b[38;5;21m_run_search\u001b[39m(\u001b[38;5;28mself\u001b[39m, evaluate_candidates):\n\u001b[1;32m   1421\u001b[0m \u001b[38;5;250m    \u001b[39m\u001b[38;5;124;03m\"\"\"Search all candidates in param_grid\"\"\"\u001b[39;00m\n\u001b[0;32m-> 1422\u001b[0m     \u001b[43mevaluate_candidates\u001b[49m\u001b[43m(\u001b[49m\u001b[43mParameterGrid\u001b[49m\u001b[43m(\u001b[49m\u001b[38;5;28;43mself\u001b[39;49m\u001b[38;5;241;43m.\u001b[39;49m\u001b[43mparam_grid\u001b[49m\u001b[43m)\u001b[49m\u001b[43m)\u001b[49m\n",
      "File \u001b[0;32m~/git/bachelor-thesis/notebooks/myfirstNN/venv/lib/python3.9/site-packages/sklearn/model_selection/_search.py:875\u001b[0m, in \u001b[0;36mBaseSearchCV.fit.<locals>.evaluate_candidates\u001b[0;34m(candidate_params, cv, more_results)\u001b[0m\n\u001b[1;32m    868\u001b[0m \u001b[38;5;28;01melif\u001b[39;00m \u001b[38;5;28mlen\u001b[39m(out) \u001b[38;5;241m!=\u001b[39m n_candidates \u001b[38;5;241m*\u001b[39m n_splits:\n\u001b[1;32m    869\u001b[0m     \u001b[38;5;28;01mraise\u001b[39;00m \u001b[38;5;167;01mValueError\u001b[39;00m(\n\u001b[1;32m    870\u001b[0m         \u001b[38;5;124m\"\u001b[39m\u001b[38;5;124mcv.split and cv.get_n_splits returned \u001b[39m\u001b[38;5;124m\"\u001b[39m\n\u001b[1;32m    871\u001b[0m         \u001b[38;5;124m\"\u001b[39m\u001b[38;5;124minconsistent results. Expected \u001b[39m\u001b[38;5;132;01m{}\u001b[39;00m\u001b[38;5;124m \u001b[39m\u001b[38;5;124m\"\u001b[39m\n\u001b[1;32m    872\u001b[0m         \u001b[38;5;124m\"\u001b[39m\u001b[38;5;124msplits, got \u001b[39m\u001b[38;5;132;01m{}\u001b[39;00m\u001b[38;5;124m\"\u001b[39m\u001b[38;5;241m.\u001b[39mformat(n_splits, \u001b[38;5;28mlen\u001b[39m(out) \u001b[38;5;241m/\u001b[39m\u001b[38;5;241m/\u001b[39m n_candidates)\n\u001b[1;32m    873\u001b[0m     )\n\u001b[0;32m--> 875\u001b[0m \u001b[43m_warn_or_raise_about_fit_failures\u001b[49m\u001b[43m(\u001b[49m\u001b[43mout\u001b[49m\u001b[43m,\u001b[49m\u001b[43m \u001b[49m\u001b[38;5;28;43mself\u001b[39;49m\u001b[38;5;241;43m.\u001b[39;49m\u001b[43merror_score\u001b[49m\u001b[43m)\u001b[49m\n\u001b[1;32m    877\u001b[0m \u001b[38;5;66;03m# For callable self.scoring, the return type is only know after\u001b[39;00m\n\u001b[1;32m    878\u001b[0m \u001b[38;5;66;03m# calling. If the return type is a dictionary, the error scores\u001b[39;00m\n\u001b[1;32m    879\u001b[0m \u001b[38;5;66;03m# can now be inserted with the correct key. The type checking\u001b[39;00m\n\u001b[1;32m    880\u001b[0m \u001b[38;5;66;03m# of out will be done in `_insert_error_scores`.\u001b[39;00m\n\u001b[1;32m    881\u001b[0m \u001b[38;5;28;01mif\u001b[39;00m \u001b[38;5;28mcallable\u001b[39m(\u001b[38;5;28mself\u001b[39m\u001b[38;5;241m.\u001b[39mscoring):\n",
      "File \u001b[0;32m~/git/bachelor-thesis/notebooks/myfirstNN/venv/lib/python3.9/site-packages/sklearn/model_selection/_validation.py:414\u001b[0m, in \u001b[0;36m_warn_or_raise_about_fit_failures\u001b[0;34m(results, error_score)\u001b[0m\n\u001b[1;32m    407\u001b[0m \u001b[38;5;28;01mif\u001b[39;00m num_failed_fits \u001b[38;5;241m==\u001b[39m num_fits:\n\u001b[1;32m    408\u001b[0m     all_fits_failed_message \u001b[38;5;241m=\u001b[39m (\n\u001b[1;32m    409\u001b[0m         \u001b[38;5;124mf\u001b[39m\u001b[38;5;124m\"\u001b[39m\u001b[38;5;130;01m\\n\u001b[39;00m\u001b[38;5;124mAll the \u001b[39m\u001b[38;5;132;01m{\u001b[39;00mnum_fits\u001b[38;5;132;01m}\u001b[39;00m\u001b[38;5;124m fits failed.\u001b[39m\u001b[38;5;130;01m\\n\u001b[39;00m\u001b[38;5;124m\"\u001b[39m\n\u001b[1;32m    410\u001b[0m         \u001b[38;5;124m\"\u001b[39m\u001b[38;5;124mIt is very likely that your model is misconfigured.\u001b[39m\u001b[38;5;130;01m\\n\u001b[39;00m\u001b[38;5;124m\"\u001b[39m\n\u001b[1;32m    411\u001b[0m         \u001b[38;5;124m\"\u001b[39m\u001b[38;5;124mYou can try to debug the error by setting error_score=\u001b[39m\u001b[38;5;124m'\u001b[39m\u001b[38;5;124mraise\u001b[39m\u001b[38;5;124m'\u001b[39m\u001b[38;5;124m.\u001b[39m\u001b[38;5;130;01m\\n\u001b[39;00m\u001b[38;5;130;01m\\n\u001b[39;00m\u001b[38;5;124m\"\u001b[39m\n\u001b[1;32m    412\u001b[0m         \u001b[38;5;124mf\u001b[39m\u001b[38;5;124m\"\u001b[39m\u001b[38;5;124mBelow are more details about the failures:\u001b[39m\u001b[38;5;130;01m\\n\u001b[39;00m\u001b[38;5;132;01m{\u001b[39;00mfit_errors_summary\u001b[38;5;132;01m}\u001b[39;00m\u001b[38;5;124m\"\u001b[39m\n\u001b[1;32m    413\u001b[0m     )\n\u001b[0;32m--> 414\u001b[0m     \u001b[38;5;28;01mraise\u001b[39;00m \u001b[38;5;167;01mValueError\u001b[39;00m(all_fits_failed_message)\n\u001b[1;32m    416\u001b[0m \u001b[38;5;28;01melse\u001b[39;00m:\n\u001b[1;32m    417\u001b[0m     some_fits_failed_message \u001b[38;5;241m=\u001b[39m (\n\u001b[1;32m    418\u001b[0m         \u001b[38;5;124mf\u001b[39m\u001b[38;5;124m\"\u001b[39m\u001b[38;5;130;01m\\n\u001b[39;00m\u001b[38;5;132;01m{\u001b[39;00mnum_failed_fits\u001b[38;5;132;01m}\u001b[39;00m\u001b[38;5;124m fits failed out of a total of \u001b[39m\u001b[38;5;132;01m{\u001b[39;00mnum_fits\u001b[38;5;132;01m}\u001b[39;00m\u001b[38;5;124m.\u001b[39m\u001b[38;5;130;01m\\n\u001b[39;00m\u001b[38;5;124m\"\u001b[39m\n\u001b[1;32m    419\u001b[0m         \u001b[38;5;124m\"\u001b[39m\u001b[38;5;124mThe score on these train-test partitions for these parameters\u001b[39m\u001b[38;5;124m\"\u001b[39m\n\u001b[0;32m   (...)\u001b[0m\n\u001b[1;32m    423\u001b[0m         \u001b[38;5;124mf\u001b[39m\u001b[38;5;124m\"\u001b[39m\u001b[38;5;124mBelow are more details about the failures:\u001b[39m\u001b[38;5;130;01m\\n\u001b[39;00m\u001b[38;5;132;01m{\u001b[39;00mfit_errors_summary\u001b[38;5;132;01m}\u001b[39;00m\u001b[38;5;124m\"\u001b[39m\n\u001b[1;32m    424\u001b[0m     )\n",
      "\u001b[0;31mValueError\u001b[0m: \nAll the 36 fits failed.\nIt is very likely that your model is misconfigured.\nYou can try to debug the error by setting error_score='raise'.\n\nBelow are more details about the failures:\n--------------------------------------------------------------------------------\n36 fits failed with the following error:\nTraceback (most recent call last):\n  File \"/Users/gbecker/git/bachelor-thesis/notebooks/myfirstNN/venv/lib/python3.9/site-packages/sklearn/model_selection/_validation.py\", line 729, in _fit_and_score\n    estimator.fit(X_train, y_train, **fit_params)\n  File \"/Users/gbecker/git/bachelor-thesis/notebooks/myfirstNN/venv/lib/python3.9/site-packages/skorch/classifier.py\", line 165, in fit\n    return super(NeuralNetClassifier, self).fit(X, y, **fit_params)\n  File \"/Users/gbecker/git/bachelor-thesis/notebooks/myfirstNN/venv/lib/python3.9/site-packages/skorch/net.py\", line 1319, in fit\n    self.partial_fit(X, y, **fit_params)\n  File \"/Users/gbecker/git/bachelor-thesis/notebooks/myfirstNN/venv/lib/python3.9/site-packages/skorch/net.py\", line 1278, in partial_fit\n    self.fit_loop(X, y, **fit_params)\n  File \"/Users/gbecker/git/bachelor-thesis/notebooks/myfirstNN/venv/lib/python3.9/site-packages/skorch/net.py\", line 1190, in fit_loop\n    self.run_single_epoch(iterator_train, training=True, prefix=\"train\",\n  File \"/Users/gbecker/git/bachelor-thesis/notebooks/myfirstNN/venv/lib/python3.9/site-packages/skorch/net.py\", line 1226, in run_single_epoch\n    step = step_fn(batch, **fit_params)\n  File \"/Users/gbecker/git/bachelor-thesis/notebooks/myfirstNN/venv/lib/python3.9/site-packages/skorch/net.py\", line 1105, in train_step\n    self._step_optimizer(step_fn)\n  File \"/Users/gbecker/git/bachelor-thesis/notebooks/myfirstNN/venv/lib/python3.9/site-packages/skorch/net.py\", line 1060, in _step_optimizer\n    optimizer.step(step_fn)\n  File \"/Users/gbecker/git/bachelor-thesis/notebooks/myfirstNN/venv/lib/python3.9/site-packages/torch/optim/optimizer.py\", line 280, in wrapper\n    out = func(*args, **kwargs)\n  File \"/Users/gbecker/git/bachelor-thesis/notebooks/myfirstNN/venv/lib/python3.9/site-packages/torch/optim/optimizer.py\", line 33, in _use_grad\n    ret = func(self, *args, **kwargs)\n  File \"/Users/gbecker/git/bachelor-thesis/notebooks/myfirstNN/venv/lib/python3.9/site-packages/torch/optim/sgd.py\", line 67, in step\n    loss = closure()\n  File \"/Users/gbecker/git/bachelor-thesis/notebooks/myfirstNN/venv/lib/python3.9/site-packages/skorch/net.py\", line 1094, in step_fn\n    step = self.train_step_single(batch, **fit_params)\n  File \"/Users/gbecker/git/bachelor-thesis/notebooks/myfirstNN/venv/lib/python3.9/site-packages/skorch/net.py\", line 994, in train_step_single\n    loss = self.get_loss(y_pred, yi, X=Xi, training=True)\n  File \"/Users/gbecker/git/bachelor-thesis/notebooks/myfirstNN/venv/lib/python3.9/site-packages/skorch/classifier.py\", line 150, in get_loss\n    return super().get_loss(y_pred, y_true, *args, **kwargs)\n  File \"/Users/gbecker/git/bachelor-thesis/notebooks/myfirstNN/venv/lib/python3.9/site-packages/skorch/net.py\", line 1665, in get_loss\n    return self.criterion_(y_pred, y_true)\n  File \"/Users/gbecker/git/bachelor-thesis/notebooks/myfirstNN/venv/lib/python3.9/site-packages/torch/nn/modules/module.py\", line 1501, in _call_impl\n    return forward_call(*args, **kwargs)\n  File \"/Users/gbecker/git/bachelor-thesis/notebooks/myfirstNN/venv/lib/python3.9/site-packages/torch/nn/modules/loss.py\", line 216, in forward\n    return F.nll_loss(input, target, weight=self.weight, ignore_index=self.ignore_index, reduction=self.reduction)\n  File \"/Users/gbecker/git/bachelor-thesis/notebooks/myfirstNN/venv/lib/python3.9/site-packages/torch/nn/functional.py\", line 2704, in nll_loss\n    return torch._C._nn.nll_loss_nd(input, target, weight, _Reduction.get_enum(reduction), ignore_index)\nRuntimeError: expected scalar type Long but found Float\n"
     ]
    }
   ],
   "source": [
    "params = {    \n",
    "    'lr': [0.001, 0.01, 0.0001],\n",
    "    'max_epochs': [1,2,5, 10, 20, 25],\n",
    "}\n",
    "\n",
    "gs = GridSearchCV(net, params, cv=2)\n",
    "gs.fit(torch.FloatTensor(X), torch.FloatTensor(y))\n",
    "pd.DataFrame(gs.cv_results_)"
   ]
  },
  {
   "cell_type": "code",
   "execution_count": null,
   "id": "e4aa41a8-5fdb-4cec-8f0f-e1a618372f1e",
   "metadata": {},
   "outputs": [],
   "source": [
    "test_imgs = load_images_from_folder(\"../notebooks/myfirstNN/data/cat\")"
   ]
  },
  {
   "cell_type": "code",
   "execution_count": null,
   "id": "87efd0b8-4769-4fe1-86b8-1bdd3b32cd29",
   "metadata": {},
   "outputs": [],
   "source": []
  },
  {
   "cell_type": "code",
   "execution_count": null,
   "id": "6c7c33a1-e7ae-4978-b25f-53b1d5e6d439",
   "metadata": {},
   "outputs": [],
   "source": []
  }
 ],
 "metadata": {
  "kernelspec": {
   "display_name": "Python 3 (ipykernel)",
   "language": "python",
   "name": "python3"
  },
  "language_info": {
   "codemirror_mode": {
    "name": "ipython",
    "version": 3
   },
   "file_extension": ".py",
   "mimetype": "text/x-python",
   "name": "python",
   "nbconvert_exporter": "python",
   "pygments_lexer": "ipython3",
   "version": "3.9.10"
  }
 },
 "nbformat": 4,
 "nbformat_minor": 5
}
