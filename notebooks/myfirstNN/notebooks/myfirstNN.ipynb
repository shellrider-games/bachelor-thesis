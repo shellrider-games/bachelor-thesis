{
 "cells": [
  {
   "cell_type": "code",
   "execution_count": 1,
   "id": "c02509da-48f0-4f2b-876d-6ac9107f2132",
   "metadata": {},
   "outputs": [],
   "source": [
    "import os\n",
    "import cv2 as cv\n",
    "import numpy as np\n",
    "from PIL import Image\n",
    "import torch\n",
    "from torch import nn\n",
    "from skorch import NeuralNetClassifier\n",
    "from sklearn.model_selection import GridSearchCV\n",
    "from sklearn.pipeline import Pipeline\n",
    "from sklearn.preprocessing import StandardScaler\n",
    "import pandas as pd"
   ]
  },
  {
   "cell_type": "code",
   "execution_count": 2,
   "id": "862a8f25-29e4-4da9-a3d0-2526e3940562",
   "metadata": {},
   "outputs": [
    {
     "name": "stdout",
     "output_type": "stream",
     "text": [
      "Using cuda device\n"
     ]
    }
   ],
   "source": [
    "device = (\n",
    "    \"cuda\"\n",
    "    if torch.cuda.is_available()\n",
    "    else \"mps\"\n",
    "    if torch.backends.mps.is_available()\n",
    "    else \"cpu\"\n",
    ")\n",
    "print(f\"Using {device} device\")"
   ]
  },
  {
   "cell_type": "code",
   "execution_count": 3,
   "id": "f43b78e4-d9dd-4349-8cbb-b92de576147c",
   "metadata": {},
   "outputs": [],
   "source": [
    "def load_images_from_folder(folder):\n",
    "    images = []\n",
    "    for file in os.listdir(folder):\n",
    "        img = cv.imread(os.path.join(folder,file))\n",
    "        if(img is not None):\n",
    "            images.append(img)\n",
    "    return images"
   ]
  },
  {
   "cell_type": "code",
   "execution_count": 4,
   "id": "ec599119-a0f0-40b9-8829-7552c876743f",
   "metadata": {},
   "outputs": [],
   "source": [
    "def resize_and_flatten(img, target_size=(64,64)):\n",
    "    resized_img = cv.resize(img, target_size)\n",
    "    flattened_img = resized_img.reshape(target_size[0] * target_size[1] * 3)\n",
    "    return flattened_img"
   ]
  },
  {
   "cell_type": "code",
   "execution_count": 5,
   "id": "87dc05ed-a06b-4548-9fba-088b4f374b2b",
   "metadata": {},
   "outputs": [
    {
     "ename": "OSError",
     "evalue": "[WinError 123] The filename, directory name, or volume label syntax is incorrect: 'D:\\\\git\\x08achelor-thesis\\\\datasets\\\\cat_v_dog\\\\Cat'",
     "output_type": "error",
     "traceback": [
      "\u001b[1;31m---------------------------------------------------------------------------\u001b[0m",
      "\u001b[1;31mOSError\u001b[0m                                   Traceback (most recent call last)",
      "Cell \u001b[1;32mIn[5], line 2\u001b[0m\n\u001b[0;32m      1\u001b[0m cat_data \u001b[38;5;241m=\u001b[39m []\n\u001b[1;32m----> 2\u001b[0m \u001b[38;5;28;01mfor\u001b[39;00m img \u001b[38;5;129;01min\u001b[39;00m \u001b[43mload_images_from_folder\u001b[49m\u001b[43m(\u001b[49m\u001b[38;5;124;43m\"\u001b[39;49m\u001b[38;5;124;43mD:\u001b[39;49m\u001b[38;5;124;43m\\\u001b[39;49m\u001b[38;5;124;43mgit\u001b[39;49m\u001b[38;5;130;43;01m\\b\u001b[39;49;00m\u001b[38;5;124;43machelor-thesis\u001b[39;49m\u001b[38;5;124;43m\\\u001b[39;49m\u001b[38;5;124;43mdatasets\u001b[39;49m\u001b[38;5;124;43m\\\u001b[39;49m\u001b[38;5;124;43mcat_v_dog\u001b[39;49m\u001b[38;5;124;43m\\\u001b[39;49m\u001b[38;5;124;43mCat\u001b[39;49m\u001b[38;5;124;43m\"\u001b[39;49m\u001b[43m)\u001b[49m:\n\u001b[0;32m      3\u001b[0m     cat_data\u001b[38;5;241m.\u001b[39mappend(resize_and_flatten(img))\n\u001b[0;32m      4\u001b[0m dog_data \u001b[38;5;241m=\u001b[39m []\n",
      "Cell \u001b[1;32mIn[3], line 3\u001b[0m, in \u001b[0;36mload_images_from_folder\u001b[1;34m(folder)\u001b[0m\n\u001b[0;32m      1\u001b[0m \u001b[38;5;28;01mdef\u001b[39;00m \u001b[38;5;21mload_images_from_folder\u001b[39m(folder):\n\u001b[0;32m      2\u001b[0m     images \u001b[38;5;241m=\u001b[39m []\n\u001b[1;32m----> 3\u001b[0m     \u001b[38;5;28;01mfor\u001b[39;00m file \u001b[38;5;129;01min\u001b[39;00m \u001b[43mos\u001b[49m\u001b[38;5;241;43m.\u001b[39;49m\u001b[43mlistdir\u001b[49m\u001b[43m(\u001b[49m\u001b[43mfolder\u001b[49m\u001b[43m)\u001b[49m:\n\u001b[0;32m      4\u001b[0m         img \u001b[38;5;241m=\u001b[39m cv\u001b[38;5;241m.\u001b[39mimread(os\u001b[38;5;241m.\u001b[39mpath\u001b[38;5;241m.\u001b[39mjoin(folder,file))\n\u001b[0;32m      5\u001b[0m         \u001b[38;5;28;01mif\u001b[39;00m(img \u001b[38;5;129;01mis\u001b[39;00m \u001b[38;5;129;01mnot\u001b[39;00m \u001b[38;5;28;01mNone\u001b[39;00m):\n",
      "\u001b[1;31mOSError\u001b[0m: [WinError 123] The filename, directory name, or volume label syntax is incorrect: 'D:\\\\git\\x08achelor-thesis\\\\datasets\\\\cat_v_dog\\\\Cat'"
     ]
    }
   ],
   "source": [
    "cat_data = []\n",
    "for img in load_images_from_folder(\"datasets/cat_v_dog/Cat\"):\n",
    "    cat_data.append(resize_and_flatten(img))\n",
    "dog_data = []\n",
    "for img in load_images_from_folder(\"datasets/cat_v_dog/Dog\"):\n",
    "    dog_data.append(resize_and_flatten(img))"
   ]
  },
  {
   "cell_type": "code",
   "execution_count": null,
   "id": "aa8af40c-9dfe-4dd8-b1e3-f4bf24b0a4d3",
   "metadata": {},
   "outputs": [],
   "source": [
    "print(len(cat_data) + \" cat images\")\n",
    "print(len(dog_data) + \" dog images\")"
   ]
  },
  {
   "cell_type": "code",
   "execution_count": null,
   "id": "30be7ae5-67c3-4ffb-87f7-036a3f254510",
   "metadata": {},
   "outputs": [],
   "source": [
    "X = []\n",
    "y = []\n",
    "\n",
    "for entity in cat_data:\n",
    "    X.append(entity)\n",
    "    y.append(1)\n",
    "\n",
    "for entity in dog_data:\n",
    "    X.append(entity)\n",
    "    y.append(0)\n",
    "\n",
    "np.array(X).shape, np.array(y).shape"
   ]
  },
  {
   "cell_type": "code",
   "execution_count": null,
   "id": "ac8262b3-2b25-4922-beae-1a2849e232ab",
   "metadata": {},
   "outputs": [],
   "source": [
    "class MyNN(nn.Module):\n",
    "    def __init__(self):\n",
    "        super().__init__()\n",
    "        self.flatten = nn.Flatten()\n",
    "        self.linear_relu_stack = nn.Sequential(\n",
    "            nn.Linear(64*64*3, 16*16),\n",
    "            nn.ReLU(),\n",
    "            nn.Linear(16*16, 16*16),\n",
    "            nn.ReLU(),\n",
    "            nn.Linear(16*16, 2),\n",
    "            nn.Sigmoid()\n",
    "        )\n",
    "    def forward(self, x, **kwargs):\n",
    "        x = self.flatten(x)\n",
    "        logits = self.linear_relu_stack(x)\n",
    "        return logits"
   ]
  },
  {
   "cell_type": "code",
   "execution_count": null,
   "id": "5c8ee7f3-4a61-412c-abf9-fd7f1d3f38f3",
   "metadata": {},
   "outputs": [],
   "source": [
    "net = NeuralNetClassifier(\n",
    "    MyNN,\n",
    "    max_epochs=10,\n",
    "    lr=0.1,\n",
    "    iterator_train__shuffle=True,\n",
    ")\n"
   ]
  },
  {
   "cell_type": "code",
   "execution_count": null,
   "id": "1e29ebc8-269f-4f5a-9f54-2ea3e3d93874",
   "metadata": {},
   "outputs": [],
   "source": [
    "params = {    \n",
    "    'lr': [0.001, 0.01, 0.0001],\n",
    "    'max_epochs': [1,2,5, 10, 20, 25],\n",
    "}\n",
    "gs = GridSearchCV(net, params, cv=2)\n",
    "gs.fit(np.array(X, dtype='float32'), np.array(y))\n",
    "pd.DataFrame(gs.cv_results_)"
   ]
  },
  {
   "cell_type": "code",
   "execution_count": null,
   "id": "be899066-2927-4de5-9a12-6a20adff5087",
   "metadata": {},
   "outputs": [],
   "source": []
  }
 ],
 "metadata": {
  "kernelspec": {
   "display_name": "Python 3 (ipykernel)",
   "language": "python",
   "name": "python3"
  },
  "language_info": {
   "codemirror_mode": {
    "name": "ipython",
    "version": 3
   },
   "file_extension": ".py",
   "mimetype": "text/x-python",
   "name": "python",
   "nbconvert_exporter": "python",
   "pygments_lexer": "ipython3",
   "version": "3.11.4"
  }
 },
 "nbformat": 4,
 "nbformat_minor": 5
}
