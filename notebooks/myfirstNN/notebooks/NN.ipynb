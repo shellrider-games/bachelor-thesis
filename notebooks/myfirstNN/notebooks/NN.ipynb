{
 "cells": [
  {
   "cell_type": "code",
   "execution_count": 1,
   "id": "78f1b96b-bccb-469d-9dd9-d532a59e2c66",
   "metadata": {},
   "outputs": [],
   "source": [
    "import torch\n",
    "from torch import nn\n",
    "import torch.nn.functional as F\n",
    "import torchvision.models as models\n",
    "from torchvision import transforms\n",
    "from pathlib import Path\n",
    "from PIL import Image\n",
    "import random\n",
    "from torch.utils.data import DataLoader, TensorDataset\n",
    "from sklearn.metrics import accuracy_score\n",
    "from matplotlib import pyplot as plt\n",
    "import cv2"
   ]
  },
  {
   "cell_type": "code",
   "execution_count": 2,
   "id": "07df314e-e8e6-4534-aa8d-8921f45bf9a3",
   "metadata": {},
   "outputs": [
    {
     "data": {
      "text/plain": [
       "'cuda'"
      ]
     },
     "execution_count": 2,
     "metadata": {},
     "output_type": "execute_result"
    }
   ],
   "source": [
    "device = \"cuda\" if torch.cuda.is_available() else \"mps\" if torch.backends.mps.is_available() else \"cpu\"\n",
    "device"
   ]
  },
  {
   "cell_type": "markdown",
   "id": "f3220bd3-b697-45aa-b3fc-4e80a0911927",
   "metadata": {},
   "source": [
    "## Load data"
   ]
  },
  {
   "cell_type": "code",
   "execution_count": 3,
   "id": "31aec647-0448-4ed1-9f64-37e42f49674b",
   "metadata": {},
   "outputs": [],
   "source": [
    "IMAGE_DIR = \"../data\""
   ]
  },
  {
   "cell_type": "code",
   "execution_count": 4,
   "id": "725f97a3-5c3c-4baa-94c3-53a6702c8eab",
   "metadata": {},
   "outputs": [],
   "source": [
    "image_path = Path(IMAGE_DIR)"
   ]
  },
  {
   "cell_type": "code",
   "execution_count": 5,
   "id": "16426611-29b9-40da-9f3b-be6d50dd1b26",
   "metadata": {},
   "outputs": [],
   "source": [
    "path_classes = [ d for d in image_path.iterdir() if d.is_dir() and not d.name.startswith('.')]"
   ]
  },
  {
   "cell_type": "code",
   "execution_count": 6,
   "id": "f29ffefc-16fa-4acb-bfb5-2e8ebc96575a",
   "metadata": {},
   "outputs": [],
   "source": [
    "samples = []\n",
    "for path in path_classes:\n",
    "    files = list(path.glob('*.png'))\n",
    "    for file in files:\n",
    "        samples.append((file , 1.0 if path.name == \"cat\" else 0.0))"
   ]
  },
  {
   "cell_type": "code",
   "execution_count": 7,
   "id": "9381852b-0d49-428c-875e-2e50d390f561",
   "metadata": {},
   "outputs": [],
   "source": [
    "transform = transforms.ToTensor()"
   ]
  },
  {
   "cell_type": "code",
   "execution_count": 8,
   "id": "7906495f-ef8d-490b-ac55-7375067305c4",
   "metadata": {},
   "outputs": [],
   "source": [
    "random.shuffle(samples)"
   ]
  },
  {
   "cell_type": "code",
   "execution_count": 9,
   "id": "c2f21099-7d03-4198-8614-d0aee3837092",
   "metadata": {},
   "outputs": [],
   "source": [
    "X = torch.zeros(len(samples),3,128,128)\n",
    "y = torch.zeros(len(samples))"
   ]
  },
  {
   "cell_type": "code",
   "execution_count": 10,
   "id": "21f6cb2e-60d1-4488-ad0d-71db45c6d39f",
   "metadata": {},
   "outputs": [],
   "source": [
    "for idx in range(len(samples)):\n",
    "    X[idx] = transform(Image.open(samples[idx][0]).resize((128,128)))\n",
    "    y[idx] = samples[idx][1]"
   ]
  },
  {
   "cell_type": "markdown",
   "id": "8482f2ef-78f9-45cb-be92-d7fd5313077a",
   "metadata": {},
   "source": [
    "Above code loads images from IMAGE_DIR, shuffles the samples and then creates corresponding tensors. X for data and y for lables. In the lables 1.0 means cat and 0.0 means dog"
   ]
  },
  {
   "cell_type": "code",
   "execution_count": 11,
   "id": "49305676-33c6-4137-8519-f8e467c540e2",
   "metadata": {},
   "outputs": [
    {
     "data": {
      "text/plain": [
       "1544"
      ]
     },
     "execution_count": 11,
     "metadata": {},
     "output_type": "execute_result"
    }
   ],
   "source": [
    "len(y)"
   ]
  },
  {
   "cell_type": "markdown",
   "id": "eb88ccf8-de34-4507-9b8e-97092e4781f8",
   "metadata": {},
   "source": [
    "## Build the model"
   ]
  },
  {
   "cell_type": "code",
   "execution_count": 12,
   "id": "472c5dc5-f904-44a5-a65a-00363e64ebf5",
   "metadata": {},
   "outputs": [],
   "source": [
    "class MyNN(nn.Module):\n",
    "    def __init__(self):\n",
    "        super().__init__()\n",
    "        self.linear_relu_stack = nn.Sequential(\n",
    "            nn.Linear(in_features=3*128*128,out_features=16*16),\n",
    "            nn.ReLU(),\n",
    "            nn.Linear(in_features=16*16,out_features=16*16),\n",
    "            nn.ReLU(),\n",
    "            nn.Linear(in_features=16*16,out_features=1)\n",
    "        )\n",
    "    def forward(self, x, **kwargs):\n",
    "        x = x.view(x.size(0), -1)\n",
    "        logits = self.linear_relu_stack(x)\n",
    "        return logits"
   ]
  },
  {
   "cell_type": "code",
   "execution_count": 13,
   "id": "e1de8fd1-835c-43fa-b83d-d4e2263be630",
   "metadata": {},
   "outputs": [],
   "source": [
    "class MyCNN(nn.Module):\n",
    "    def __init__(self):\n",
    "        super(MyCNN, self).__init__()\n",
    "        self.conv1 = nn.Conv2d(in_channels=3, out_channels=32, kernel_size=3, stride=1, padding=1)\n",
    "        self.conv2 = nn.Conv2d(in_channels=32, out_channels=64, kernel_size=3, stride=1, padding=1)\n",
    "        self.pool = nn.MaxPool2d(kernel_size=2, stride=2, padding=0)\n",
    "\n",
    "        self.fc1 = nn.Linear(64 * 32 * 32, 512)\n",
    "        self.fc2 = nn.Linear(512, 1)\n",
    "\n",
    "    def forward(self, x):\n",
    "        x = self.pool(F.relu(self.conv1(x)))\n",
    "        x = self.pool(F.relu(self.conv2(x)))\n",
    "        x = x.view(-1, 64 * 32 * 32)\n",
    "        x = F.relu(self.fc1(x))\n",
    "        x = self.fc2(x)\n",
    "        return x"
   ]
  },
  {
   "cell_type": "code",
   "execution_count": 14,
   "id": "61dca0b3-dcbe-4259-a0fa-ec34504b9c25",
   "metadata": {},
   "outputs": [],
   "source": [
    "class MyResNet50(nn.Module):\n",
    "    def __init__(self):\n",
    "        super(MyResNet50, self).__init__()\n",
    "        self.resnet = models.resnet50(pretrained=False)\n",
    "        num_features = self.resnet.fc.in_features\n",
    "        self.resnet.fc = nn.Linear(num_features, 1)\n",
    "\n",
    "    def forward(self, x):\n",
    "        x = self.resnet(x)\n",
    "        return torch.sigmoid(x)"
   ]
  },
  {
   "cell_type": "code",
   "execution_count": 15,
   "id": "f1d2ab53-af87-481e-a168-3639a89ab905",
   "metadata": {},
   "outputs": [],
   "source": [
    "class EnhancedCNN(nn.Module):\n",
    "    def __init__(self):\n",
    "        super(EnhancedCNN, self).__init__()\n",
    "\n",
    "        self.conv1 = nn.Conv2d(in_channels=3, out_channels=32, kernel_size=3, stride=1, padding=1)\n",
    "        self.bn1 = nn.BatchNorm2d(32)\n",
    "        self.conv2 = nn.Conv2d(in_channels=32, out_channels=32, kernel_size=3, stride=1, padding=1)\n",
    "        self.bn2 = nn.BatchNorm2d(32)\n",
    "        self.pool1 = nn.MaxPool2d(kernel_size=2, stride=2)\n",
    "\n",
    "        self.conv3 = nn.Conv2d(in_channels=32, out_channels=64, kernel_size=3, stride=1, padding=1)\n",
    "        self.bn3 = nn.BatchNorm2d(64)\n",
    "        self.conv4 = nn.Conv2d(in_channels=64, out_channels=64, kernel_size=3, stride=1, padding=1)\n",
    "        self.bn4 = nn.BatchNorm2d(64)\n",
    "        self.pool2 = nn.MaxPool2d(kernel_size=2, stride=2)\n",
    "\n",
    "        self.fc1 = nn.Linear(64 * 32 * 32, 512)\n",
    "        self.dropout1 = nn.Dropout(0.5)\n",
    "        self.fc2 = nn.Linear(512, 1)\n",
    "\n",
    "    def forward(self, x):\n",
    "        x = self.pool1(F.relu(self.bn2(self.conv2(F.relu(self.bn1(self.conv1(x)))))))\n",
    "\n",
    "        x = self.pool2(F.relu(self.bn4(self.conv4(F.relu(self.bn3(self.conv3(x)))))))\n",
    "\n",
    "        x = x.view(-1, 64 * 32 * 32)\n",
    "\n",
    "        x = F.relu(self.fc1(x))\n",
    "        x = self.dropout1(x)\n",
    "        x = self.fc2(x)\n",
    "        return x"
   ]
  },
  {
   "cell_type": "code",
   "execution_count": 16,
   "id": "c52282a2-8c65-46bb-b696-42c2860e9497",
   "metadata": {},
   "outputs": [],
   "source": [
    "class EnhancedCNNMoreDropout(nn.Module):\n",
    "    def __init__(self):\n",
    "        super(EnhancedCNNMoreDropout, self).__init__()\n",
    "\n",
    "        self.conv1 = nn.Conv2d(in_channels=3, out_channels=32, kernel_size=3, stride=1, padding=1)\n",
    "        self.bn1 = nn.BatchNorm2d(32)\n",
    "        self.conv2 = nn.Conv2d(in_channels=32, out_channels=32, kernel_size=3, stride=1, padding=1)\n",
    "        self.bn2 = nn.BatchNorm2d(32)\n",
    "        self.pool1 = nn.MaxPool2d(kernel_size=2, stride=2)\n",
    "        self.dropout1 = nn.Dropout(0.2)\n",
    "\n",
    "        self.conv3 = nn.Conv2d(in_channels=32, out_channels=64, kernel_size=3, stride=1, padding=1)\n",
    "        self.bn3 = nn.BatchNorm2d(64)\n",
    "        self.conv4 = nn.Conv2d(in_channels=64, out_channels=64, kernel_size=3, stride=1, padding=1)\n",
    "        self.bn4 = nn.BatchNorm2d(64)\n",
    "        self.pool2 = nn.MaxPool2d(kernel_size=2, stride=2)\n",
    "        self.dropout2 = nn.Dropout(0.2)\n",
    "\n",
    "        self.fc1 = nn.Linear(64 * 32 * 32, 512)\n",
    "        self.dropout3 = nn.Dropout(0.2)\n",
    "        self.fc2 = nn.Linear(512, 1)\n",
    "\n",
    "    def forward(self, x):\n",
    "        x = self.pool1(F.relu(self.bn2(self.conv2(F.relu(self.bn1(self.conv1(x)))))))\n",
    "        x = self.dropout1(x)\n",
    "\n",
    "        x = self.pool2(F.relu(self.bn4(self.conv4(F.relu(self.bn3(self.conv3(x)))))))\n",
    "        x = self.dropout2(x)\n",
    "\n",
    "        x = x.view(-1, 64 * 32 * 32)\n",
    "\n",
    "        x = F.relu(self.fc1(x))\n",
    "        x = self.dropout3(x)\n",
    "        x = self.fc2(x)\n",
    "        return x"
   ]
  },
  {
   "cell_type": "code",
   "execution_count": 17,
   "id": "07ba6e76-b6d1-4eda-b031-32961f00d23d",
   "metadata": {},
   "outputs": [],
   "source": [
    "class DeepSketch(nn.Module):\n",
    "    def __init__(self):\n",
    "        super(DeepSketch, self).__init__()\n",
    "        self.conv1 = nn.Conv2d(in_channels=3, out_channels=64, kernel_size=7, stride=2, padding=2)\n",
    "        self.pool1 = nn.MaxPool2d(kernel_size=3, stride=2)\n",
    "        self.conv2 = nn.Conv2d(in_channels=64, out_channels=128, kernel_size=5, stride=2, padding=2)\n",
    "        self.pool2 = nn.MaxPool2d(kernel_size=3, stride=2)\n",
    "        self.conv3 = nn.Conv2d(in_channels=128, out_channels=256, kernel_size=3, stride=1, padding=1)\n",
    "        self.conv4 = nn.Conv2d(in_channels=256, out_channels=512, kernel_size=3, stride=1, padding=3)\n",
    "        self.pool4 = nn.MaxPool2d(kernel_size=3, stride=2)\n",
    "        self.conv5 = nn.Conv2d(in_channels=512, out_channels=4096, kernel_size=5, stride=1, padding=0)\n",
    "        self.dropout = nn.Dropout(0.5)\n",
    "        self.fc = nn.Linear(4096,1)\n",
    "    \n",
    "    def forward(self, x):\n",
    "        x = self.pool1(F.relu(self.conv1(x)))\n",
    "        x = self.pool2(F.relu(self.conv2(x)))\n",
    "        x = F.relu(self.conv3(x))\n",
    "        x = self.pool4(F.relu(self.conv4(x)))\n",
    "        x = F.relu(self.conv5(x))\n",
    "        x = x.view(-1, 4096)\n",
    "        x = self.dropout(x)\n",
    "        x = self.fc(x)\n",
    "        return x\n",
    "    "
   ]
  },
  {
   "cell_type": "code",
   "execution_count": 18,
   "id": "09a7411c-635c-42bb-9280-f8780eb0fdbe",
   "metadata": {},
   "outputs": [
    {
     "data": {
      "text/plain": [
       "DeepSketch(\n",
       "  (conv1): Conv2d(3, 64, kernel_size=(7, 7), stride=(2, 2), padding=(2, 2))\n",
       "  (pool1): MaxPool2d(kernel_size=3, stride=2, padding=0, dilation=1, ceil_mode=False)\n",
       "  (conv2): Conv2d(64, 128, kernel_size=(5, 5), stride=(2, 2), padding=(2, 2))\n",
       "  (pool2): MaxPool2d(kernel_size=3, stride=2, padding=0, dilation=1, ceil_mode=False)\n",
       "  (conv3): Conv2d(128, 256, kernel_size=(3, 3), stride=(1, 1), padding=(1, 1))\n",
       "  (conv4): Conv2d(256, 512, kernel_size=(3, 3), stride=(1, 1), padding=(3, 3))\n",
       "  (pool4): MaxPool2d(kernel_size=3, stride=2, padding=0, dilation=1, ceil_mode=False)\n",
       "  (conv5): Conv2d(512, 4096, kernel_size=(5, 5), stride=(1, 1))\n",
       "  (dropout): Dropout(p=0.5, inplace=False)\n",
       "  (fc): Linear(in_features=4096, out_features=1, bias=True)\n",
       ")"
      ]
     },
     "execution_count": 18,
     "metadata": {},
     "output_type": "execute_result"
    }
   ],
   "source": [
    "model = DeepSketch()\n",
    "model.to(device)"
   ]
  },
  {
   "cell_type": "markdown",
   "id": "51106aba-af50-4a08-801b-5287ef9c4e38",
   "metadata": {},
   "source": [
    "### Setup training loop"
   ]
  },
  {
   "cell_type": "code",
   "execution_count": 19,
   "id": "1137c66c-5ada-4a15-8b1e-ca3647e16c04",
   "metadata": {},
   "outputs": [],
   "source": [
    "def accuracy_fn(y_true, y_pred):\n",
    "    correct = torch.eq(y_true, y_pred).sum().item()\n",
    "    acc = (correct / len(y_pred)) * 100 \n",
    "    return acc"
   ]
  },
  {
   "cell_type": "code",
   "execution_count": 20,
   "id": "89104185-9247-481f-a17e-7896e5390439",
   "metadata": {},
   "outputs": [],
   "source": [
    "loss_fn = nn.BCEWithLogitsLoss()\n",
    "optimizer = torch.optim.Adam(model.parameters(), lr=0.00001)"
   ]
  },
  {
   "cell_type": "code",
   "execution_count": 21,
   "id": "424c4710-b9f4-48f0-846f-27706d4fb503",
   "metadata": {},
   "outputs": [],
   "source": [
    "percentage = 0.8\n",
    "split_index = int(len(X)*percentage)\n",
    "X_train = X[:split_index]\n",
    "y_train = y[:split_index]\n",
    "X_test = X[split_index:]\n",
    "y_test = y[split_index:]\n",
    "X_train = X_train.to(device)\n",
    "y_train = y_train.to(device)\n",
    "X_test = X_test.to(device)\n",
    "y_test = y_test.to(device)"
   ]
  },
  {
   "cell_type": "code",
   "execution_count": 22,
   "id": "e07d74c5-d1fb-4730-8fd2-c49392d6b4a7",
   "metadata": {},
   "outputs": [
    {
     "name": "stdout",
     "output_type": "stream",
     "text": [
      "Epoch 0 | Average Loss: 0.69519 - Average Acc: 48.14% | Average Test Loss: 0.69301 - Average Test Acc: 49.51%\n",
      "Epoch 50 | Average Loss: 0.50311 - Average Acc: 75.04% | Average Test Loss: 0.62894 - Average Test Acc: 65.83%\n",
      "Epoch 100 | Average Loss: 0.17301 - Average Acc: 95.28% | Average Test Loss: 0.65749 - Average Test Acc: 72.83%\n",
      "Epoch 150 | Average Loss: 0.02855 - Average Acc: 100.00% | Average Test Loss: 0.85849 - Average Test Acc: 71.58%\n",
      "Epoch 199 | Average Loss: 0.00646 - Average Acc: 100.00% | Average Test Loss: 1.06878 - Average Test Acc: 73.14%\n"
     ]
    }
   ],
   "source": [
    "EPOCHS = 200\n",
    "MODEL_PATH = 'classifier_deep_sketch_weights_200.pth'\n",
    "\n",
    "train_dataset = TensorDataset(X_train, y_train)\n",
    "train_loader = DataLoader(dataset=train_dataset, batch_size=64, shuffle=True)\n",
    "\n",
    "test_dataset = TensorDataset(X_test, y_test)\n",
    "test_loader = DataLoader(dataset=test_dataset, batch_size=64, shuffle=False)\n",
    "\n",
    "train_losses = []\n",
    "test_losses = []\n",
    "\n",
    "train_accs = []\n",
    "test_accs = []\n",
    "\n",
    "for epoch in range(EPOCHS):\n",
    "    model.train()\n",
    "    total_loss = 0\n",
    "    total_acc = 0\n",
    "\n",
    "    total_test_loss = 0\n",
    "    total_test_acc = 0\n",
    "    \n",
    "    for X_batch, y_batch in train_loader:\n",
    "        y_logits = model(X_batch).squeeze()\n",
    "        y_pred = torch.round(torch.sigmoid(y_logits))\n",
    "        loss = loss_fn(y_logits, y_batch)\n",
    "        \n",
    "        optimizer.zero_grad()\n",
    "        loss.backward()\n",
    "        optimizer.step()\n",
    "\n",
    "        total_loss += loss.item()\n",
    "        total_acc += accuracy_fn(y_batch, y_pred)\n",
    "\n",
    "    avg_loss = total_loss / len(train_loader)\n",
    "    train_losses.append(avg_loss)\n",
    "    avg_acc = total_acc / len(train_loader)\n",
    "    train_accs.append(avg_acc)\n",
    "    model.eval()\n",
    "\n",
    "    with torch.inference_mode():\n",
    "        for X_batch, y_batch in test_loader:\n",
    "            test_logits = model(X_batch).squeeze()\n",
    "            test_y_pred = torch.round(torch.sigmoid(test_logits))\n",
    "\n",
    "            test_loss = loss_fn(test_logits, y_batch)\n",
    "\n",
    "            total_test_loss += test_loss.item()\n",
    "            total_test_acc += accuracy_fn(y_batch, test_y_pred)\n",
    "            \n",
    "    avg_test_loss = total_test_loss / len(test_loader)\n",
    "    test_losses.append(avg_test_loss)\n",
    "    avg_test_acc = total_test_acc / len(test_loader)\n",
    "    test_accs.append(avg_test_acc)\n",
    "    if (epoch % 50 == 0) or (epoch == EPOCHS-1):\n",
    "        print(f\"Epoch {epoch} | Average Loss: {avg_loss:.5f} - Average Acc: {avg_acc:.2f}% | Average Test Loss: {avg_test_loss:.5f} - Average Test Acc: {avg_test_acc:.2f}%\")\n",
    "\n",
    "torch.save(model.state_dict(),MODEL_PATH)"
   ]
  },
  {
   "cell_type": "markdown",
   "id": "e5f48fdc-3b14-40b8-8c71-cc2502b62f55",
   "metadata": {},
   "source": [
    "## Check accuracy of model"
   ]
  },
  {
   "cell_type": "code",
   "execution_count": 23,
   "id": "4296991c-151a-41d3-a796-d5eb77302f20",
   "metadata": {},
   "outputs": [],
   "source": [
    "acc_dataset = TensorDataset(X.to(device), y.to(device))\n",
    "acc_loader = DataLoader(dataset=acc_dataset, batch_size=32, shuffle=True)"
   ]
  },
  {
   "cell_type": "code",
   "execution_count": 24,
   "id": "f3bc684c-371b-4c33-b709-c198ae004469",
   "metadata": {},
   "outputs": [],
   "source": [
    "model.eval()\n",
    "total_acc = 0\n",
    "with torch.inference_mode():\n",
    "    for X_batch, y_batch in acc_loader:\n",
    "        test_logits = model(X_batch).squeeze()\n",
    "        test_y_pred = torch.round(torch.sigmoid(test_logits))\n",
    "        total_acc += accuracy_fn(y_batch, test_y_pred)\n",
    "acc = total_acc / len(acc_loader)"
   ]
  },
  {
   "cell_type": "code",
   "execution_count": 25,
   "id": "87c5fdbc-6f17-4012-9bd8-a637a0debb05",
   "metadata": {},
   "outputs": [
    {
     "name": "stdout",
     "output_type": "stream",
     "text": [
      "The model performs with an accuracy of: 94.77% on the whole dataset\n"
     ]
    }
   ],
   "source": [
    "print(f\"The model performs with an accuracy of: {acc:.2f}% on the whole dataset\")"
   ]
  },
  {
   "cell_type": "code",
   "execution_count": 26,
   "id": "f404943f-dcc8-4720-a5d6-a56cffcabf97",
   "metadata": {},
   "outputs": [
    {
     "data": {
      "text/plain": [
       "<matplotlib.legend.Legend at 0x1cd71e80bd0>"
      ]
     },
     "execution_count": 26,
     "metadata": {},
     "output_type": "execute_result"
    },
    {
     "data": {
      "image/png": "[encoded data removed]",
      "text/plain": [
       "<Figure size 1200x600 with 2 Axes>"
      ]
     },
     "metadata": {},
     "output_type": "display_data"
    }
   ],
   "source": [
    "epochs = range(EPOCHS)\n",
    "fig, (ax1, ax2) = plt.subplots(1,2, figsize=(12,6))\n",
    "ax1.plot(epochs, train_losses, color = 'blue', label = \"Training Loss\")\n",
    "ax1.plot(epochs, test_losses, color = 'orange', label = \"Test Loss\")\n",
    "ax1.set_xlabel(\"Epochs\")\n",
    "ax1.set_ylabel(\"Loss\")\n",
    "ax1.legend()\n",
    "\n",
    "ax2.plot(epochs, train_accs, color = 'blue', label = \"Training Accuracy\")\n",
    "ax2.plot(epochs, test_accs, color = 'orange', label = \"Testing Accuracy\")\n",
    "ax2.set_xlabel(\"Epochs\")\n",
    "ax2.set_ylabel(\"Accuracy (%)\")\n",
    "ax2.legend()"
   ]
  },
  {
   "cell_type": "code",
   "execution_count": null,
   "id": "d8fbc8d4-1ef4-4905-958f-ede4cd778406",
   "metadata": {},
   "outputs": [],
   "source": []
  },
  {
   "cell_type": "code",
   "execution_count": null,
   "id": "0c973b32-75d7-4f53-b576-0fc517933ea8",
   "metadata": {},
   "outputs": [],
   "source": []
  }
 ],
 "metadata": {
  "kernelspec": {
   "display_name": "Python 3 (ipykernel)",
   "language": "python",
   "name": "python3"
  },
  "language_info": {
   "codemirror_mode": {
    "name": "ipython",
    "version": 3
   },
   "file_extension": ".py",
   "mimetype": "text/x-python",
   "name": "python",
   "nbconvert_exporter": "python",
   "pygments_lexer": "ipython3",
   "version": "3.11.4"
  }
 },
 "nbformat": 4,
 "nbformat_minor": 5
}
