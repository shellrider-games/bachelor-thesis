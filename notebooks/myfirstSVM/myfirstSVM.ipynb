{
 "cells": [
  {
   "cell_type": "code",
   "execution_count": 1,
   "id": "d89acaa9-6858-4b97-94ac-5c36f5f35666",
   "metadata": {},
   "outputs": [],
   "source": [
    "import os\n",
    "import cv2 as cv\n",
    "import numpy as np\n",
    "from PIL import Image\n",
    "from sklearn import svm\n",
    "import pandas as pd\n",
    "from sklearn.model_selection import cross_val_score\n",
    "from sklearn.model_selection import GridSearchCV"
   ]
  },
  {
   "cell_type": "code",
   "execution_count": 2,
   "id": "08141926-78c3-450f-b624-0fdcadad51c8",
   "metadata": {},
   "outputs": [],
   "source": [
    "def load_images_from_folder(folder):\n",
    "    images = []\n",
    "    for file in os.listdir(folder):\n",
    "        img = cv.imread(os.path.join(folder,file), cv.IMREAD_GRAYSCALE)\n",
    "        if(img is not None):\n",
    "            images.append(img)\n",
    "    return images"
   ]
  },
  {
   "cell_type": "code",
   "execution_count": 3,
   "id": "a233641f-dc53-4ae6-8654-2e8c3f944b90",
   "metadata": {},
   "outputs": [],
   "source": [
    "def resize_and_flatten(img, target_size=(64,64)):\n",
    "    resized_img = cv.resize(img, target_size)\n",
    "    flattened_img = resized_img.reshape(target_size[0] * target_size[1])\n",
    "    return flattened_img"
   ]
  },
  {
   "cell_type": "code",
   "execution_count": 4,
   "id": "39c9da5f-fe12-4eee-9e3e-328e844bbc93",
   "metadata": {},
   "outputs": [],
   "source": [
    "cat_data = []\n",
    "for img in load_images_from_folder(\"D:/git/bachelor-thesis/datasets/cat_v_dog/Cat\"):\n",
    "    cat_data.append(resize_and_flatten(img))\n",
    "dog_data = []\n",
    "for img in load_images_from_folder(\"D:/git/bachelor-thesis/datasets/cat_v_dog/Dog\"):\n",
    "    dog_data.append(resize_and_flatten(img))"
   ]
  },
  {
   "cell_type": "code",
   "execution_count": 5,
   "id": "42131e27-6399-43bc-9603-bfa089ef125a",
   "metadata": {},
   "outputs": [
    {
     "name": "stdout",
     "output_type": "stream",
     "text": [
      "772 cat images\n",
      "772 dog images\n"
     ]
    }
   ],
   "source": [
    "print(str(len(cat_data)) + \" cat images\")\n",
    "print(str(len(dog_data)) + \" dog images\")"
   ]
  },
  {
   "cell_type": "code",
   "execution_count": 6,
   "id": "7aff5a55-d687-4191-b878-22d04c0db8a9",
   "metadata": {},
   "outputs": [],
   "source": [
    "X = []\n",
    "y = []\n",
    "\n",
    "for entity in cat_data:\n",
    "    X.append(entity)\n",
    "    y.append(1)\n",
    "\n",
    "for entity in dog_data:\n",
    "    X.append(entity)\n",
    "    y.append(0)"
   ]
  },
  {
   "cell_type": "code",
   "execution_count": 7,
   "id": "8c6eb1ad-094f-4317-89da-651e6875df2b",
   "metadata": {},
   "outputs": [],
   "source": [
    "classifier = svm.SVC()"
   ]
  },
  {
   "cell_type": "code",
   "execution_count": 9,
   "id": "a9080731-4d2e-4276-87f4-226f4449d940",
   "metadata": {},
   "outputs": [
    {
     "data": {
      "text/html": [
       "<div>\n",
       "<style scoped>\n",
       "    .dataframe tbody tr th:only-of-type {\n",
       "        vertical-align: middle;\n",
       "    }\n",
       "\n",
       "    .dataframe tbody tr th {\n",
       "        vertical-align: top;\n",
       "    }\n",
       "\n",
       "    .dataframe thead th {\n",
       "        text-align: right;\n",
       "    }\n",
       "</style>\n",
       "<table border=\"1\" class=\"dataframe\">\n",
       "  <thead>\n",
       "    <tr style=\"text-align: right;\">\n",
       "      <th></th>\n",
       "      <th>mean_fit_time</th>\n",
       "      <th>std_fit_time</th>\n",
       "      <th>mean_score_time</th>\n",
       "      <th>std_score_time</th>\n",
       "      <th>params</th>\n",
       "      <th>split0_test_score</th>\n",
       "      <th>split1_test_score</th>\n",
       "      <th>split2_test_score</th>\n",
       "      <th>mean_test_score</th>\n",
       "      <th>std_test_score</th>\n",
       "      <th>rank_test_score</th>\n",
       "    </tr>\n",
       "  </thead>\n",
       "  <tbody>\n",
       "    <tr>\n",
       "      <th>0</th>\n",
       "      <td>1.859278</td>\n",
       "      <td>0.018411</td>\n",
       "      <td>1.427994</td>\n",
       "      <td>0.021008</td>\n",
       "      <td>{}</td>\n",
       "      <td>0.504854</td>\n",
       "      <td>0.549515</td>\n",
       "      <td>0.558366</td>\n",
       "      <td>0.537578</td>\n",
       "      <td>0.02342</td>\n",
       "      <td>1</td>\n",
       "    </tr>\n",
       "  </tbody>\n",
       "</table>\n",
       "</div>"
      ],
      "text/plain": [
       "   mean_fit_time  std_fit_time  mean_score_time  std_score_time params  \\\n",
       "0       1.859278      0.018411         1.427994        0.021008     {}   \n",
       "\n",
       "   split0_test_score  split1_test_score  split2_test_score  mean_test_score  \\\n",
       "0           0.504854           0.549515           0.558366         0.537578   \n",
       "\n",
       "   std_test_score  rank_test_score  \n",
       "0         0.02342                1  "
      ]
     },
     "execution_count": 9,
     "metadata": {},
     "output_type": "execute_result"
    }
   ],
   "source": [
    "gs = GridSearchCV(classifier, {}, cv=3)\n",
    "gs.fit(X,y)\n",
    "pd.DataFrame(gs.cv_results_)"
   ]
  },
  {
   "cell_type": "code",
   "execution_count": null,
   "id": "edd31688-8cae-4b5a-b085-dada2af43a8b",
   "metadata": {},
   "outputs": [],
   "source": []
  }
 ],
 "metadata": {
  "kernelspec": {
   "display_name": "Python 3 (ipykernel)",
   "language": "python",
   "name": "python3"
  },
  "language_info": {
   "codemirror_mode": {
    "name": "ipython",
    "version": 3
   },
   "file_extension": ".py",
   "mimetype": "text/x-python",
   "name": "python",
   "nbconvert_exporter": "python",
   "pygments_lexer": "ipython3",
   "version": "3.11.4"
  }
 },
 "nbformat": 4,
 "nbformat_minor": 5
}
